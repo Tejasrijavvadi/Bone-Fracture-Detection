{
  "nbformat": 4,
  "nbformat_minor": 0,
  "metadata": {
    "colab": {
      "name": "Bone fracture detection.ipynb",
      "provenance": [],
      "collapsed_sections": []
    },
    "kernelspec": {
      "name": "python3",
      "display_name": "Python 3"
    },
    "language_info": {
      "name": "python"
    },
    "widgets": {
      "application/vnd.jupyter.widget-state+json": {
        "dc63f214e34046d7b1297a3304f3da97": {
          "model_module": "@jupyter-widgets/controls",
          "model_name": "HBoxModel",
          "model_module_version": "1.5.0",
          "state": {
            "_dom_classes": [],
            "_model_module": "@jupyter-widgets/controls",
            "_model_module_version": "1.5.0",
            "_model_name": "HBoxModel",
            "_view_count": null,
            "_view_module": "@jupyter-widgets/controls",
            "_view_module_version": "1.5.0",
            "_view_name": "HBoxView",
            "box_style": "",
            "children": [
              "IPY_MODEL_e55f21bf122a4852b43324f1ea5cfba0",
              "IPY_MODEL_038cb45496864b80b1dd402564057799",
              "IPY_MODEL_7bb0574c86ec449ba53efb545017f99d"
            ],
            "layout": "IPY_MODEL_83ca5d6fe9aa4a00aa57cb3b248afa0e"
          }
        },
        "e55f21bf122a4852b43324f1ea5cfba0": {
          "model_module": "@jupyter-widgets/controls",
          "model_name": "HTMLModel",
          "model_module_version": "1.5.0",
          "state": {
            "_dom_classes": [],
            "_model_module": "@jupyter-widgets/controls",
            "_model_module_version": "1.5.0",
            "_model_name": "HTMLModel",
            "_view_count": null,
            "_view_module": "@jupyter-widgets/controls",
            "_view_module_version": "1.5.0",
            "_view_name": "HTMLView",
            "description": "",
            "description_tooltip": null,
            "layout": "IPY_MODEL_80848b925bfd48f1ac188534200ef73f",
            "placeholder": "​",
            "style": "IPY_MODEL_10d818e071f840c4a7235f8e3266eb49",
            "value": "100%"
          }
        },
        "038cb45496864b80b1dd402564057799": {
          "model_module": "@jupyter-widgets/controls",
          "model_name": "FloatProgressModel",
          "model_module_version": "1.5.0",
          "state": {
            "_dom_classes": [],
            "_model_module": "@jupyter-widgets/controls",
            "_model_module_version": "1.5.0",
            "_model_name": "FloatProgressModel",
            "_view_count": null,
            "_view_module": "@jupyter-widgets/controls",
            "_view_module_version": "1.5.0",
            "_view_name": "ProgressView",
            "bar_style": "success",
            "description": "",
            "description_tooltip": null,
            "layout": "IPY_MODEL_2d1b58ee7e624638afbe290be9c9b784",
            "max": 138,
            "min": 0,
            "orientation": "horizontal",
            "style": "IPY_MODEL_3c5cc787ac82489a84afd456affc6ed4",
            "value": 138
          }
        },
        "7bb0574c86ec449ba53efb545017f99d": {
          "model_module": "@jupyter-widgets/controls",
          "model_name": "HTMLModel",
          "model_module_version": "1.5.0",
          "state": {
            "_dom_classes": [],
            "_model_module": "@jupyter-widgets/controls",
            "_model_module_version": "1.5.0",
            "_model_name": "HTMLModel",
            "_view_count": null,
            "_view_module": "@jupyter-widgets/controls",
            "_view_module_version": "1.5.0",
            "_view_name": "HTMLView",
            "description": "",
            "description_tooltip": null,
            "layout": "IPY_MODEL_bbca904e2b504d92a4e93bc0666beb55",
            "placeholder": "​",
            "style": "IPY_MODEL_cacb933ead5a4e58b3950c6d984b70ce",
            "value": " 138/138 [00:08&lt;00:00, 13.19it/s]"
          }
        },
        "83ca5d6fe9aa4a00aa57cb3b248afa0e": {
          "model_module": "@jupyter-widgets/base",
          "model_name": "LayoutModel",
          "model_module_version": "1.2.0",
          "state": {
            "_model_module": "@jupyter-widgets/base",
            "_model_module_version": "1.2.0",
            "_model_name": "LayoutModel",
            "_view_count": null,
            "_view_module": "@jupyter-widgets/base",
            "_view_module_version": "1.2.0",
            "_view_name": "LayoutView",
            "align_content": null,
            "align_items": null,
            "align_self": null,
            "border": null,
            "bottom": null,
            "display": null,
            "flex": null,
            "flex_flow": null,
            "grid_area": null,
            "grid_auto_columns": null,
            "grid_auto_flow": null,
            "grid_auto_rows": null,
            "grid_column": null,
            "grid_gap": null,
            "grid_row": null,
            "grid_template_areas": null,
            "grid_template_columns": null,
            "grid_template_rows": null,
            "height": null,
            "justify_content": null,
            "justify_items": null,
            "left": null,
            "margin": null,
            "max_height": null,
            "max_width": null,
            "min_height": null,
            "min_width": null,
            "object_fit": null,
            "object_position": null,
            "order": null,
            "overflow": null,
            "overflow_x": null,
            "overflow_y": null,
            "padding": null,
            "right": null,
            "top": null,
            "visibility": null,
            "width": null
          }
        },
        "80848b925bfd48f1ac188534200ef73f": {
          "model_module": "@jupyter-widgets/base",
          "model_name": "LayoutModel",
          "model_module_version": "1.2.0",
          "state": {
            "_model_module": "@jupyter-widgets/base",
            "_model_module_version": "1.2.0",
            "_model_name": "LayoutModel",
            "_view_count": null,
            "_view_module": "@jupyter-widgets/base",
            "_view_module_version": "1.2.0",
            "_view_name": "LayoutView",
            "align_content": null,
            "align_items": null,
            "align_self": null,
            "border": null,
            "bottom": null,
            "display": null,
            "flex": null,
            "flex_flow": null,
            "grid_area": null,
            "grid_auto_columns": null,
            "grid_auto_flow": null,
            "grid_auto_rows": null,
            "grid_column": null,
            "grid_gap": null,
            "grid_row": null,
            "grid_template_areas": null,
            "grid_template_columns": null,
            "grid_template_rows": null,
            "height": null,
            "justify_content": null,
            "justify_items": null,
            "left": null,
            "margin": null,
            "max_height": null,
            "max_width": null,
            "min_height": null,
            "min_width": null,
            "object_fit": null,
            "object_position": null,
            "order": null,
            "overflow": null,
            "overflow_x": null,
            "overflow_y": null,
            "padding": null,
            "right": null,
            "top": null,
            "visibility": null,
            "width": null
          }
        },
        "10d818e071f840c4a7235f8e3266eb49": {
          "model_module": "@jupyter-widgets/controls",
          "model_name": "DescriptionStyleModel",
          "model_module_version": "1.5.0",
          "state": {
            "_model_module": "@jupyter-widgets/controls",
            "_model_module_version": "1.5.0",
            "_model_name": "DescriptionStyleModel",
            "_view_count": null,
            "_view_module": "@jupyter-widgets/base",
            "_view_module_version": "1.2.0",
            "_view_name": "StyleView",
            "description_width": ""
          }
        },
        "2d1b58ee7e624638afbe290be9c9b784": {
          "model_module": "@jupyter-widgets/base",
          "model_name": "LayoutModel",
          "model_module_version": "1.2.0",
          "state": {
            "_model_module": "@jupyter-widgets/base",
            "_model_module_version": "1.2.0",
            "_model_name": "LayoutModel",
            "_view_count": null,
            "_view_module": "@jupyter-widgets/base",
            "_view_module_version": "1.2.0",
            "_view_name": "LayoutView",
            "align_content": null,
            "align_items": null,
            "align_self": null,
            "border": null,
            "bottom": null,
            "display": null,
            "flex": null,
            "flex_flow": null,
            "grid_area": null,
            "grid_auto_columns": null,
            "grid_auto_flow": null,
            "grid_auto_rows": null,
            "grid_column": null,
            "grid_gap": null,
            "grid_row": null,
            "grid_template_areas": null,
            "grid_template_columns": null,
            "grid_template_rows": null,
            "height": null,
            "justify_content": null,
            "justify_items": null,
            "left": null,
            "margin": null,
            "max_height": null,
            "max_width": null,
            "min_height": null,
            "min_width": null,
            "object_fit": null,
            "object_position": null,
            "order": null,
            "overflow": null,
            "overflow_x": null,
            "overflow_y": null,
            "padding": null,
            "right": null,
            "top": null,
            "visibility": null,
            "width": null
          }
        },
        "3c5cc787ac82489a84afd456affc6ed4": {
          "model_module": "@jupyter-widgets/controls",
          "model_name": "ProgressStyleModel",
          "model_module_version": "1.5.0",
          "state": {
            "_model_module": "@jupyter-widgets/controls",
            "_model_module_version": "1.5.0",
            "_model_name": "ProgressStyleModel",
            "_view_count": null,
            "_view_module": "@jupyter-widgets/base",
            "_view_module_version": "1.2.0",
            "_view_name": "StyleView",
            "bar_color": null,
            "description_width": ""
          }
        },
        "bbca904e2b504d92a4e93bc0666beb55": {
          "model_module": "@jupyter-widgets/base",
          "model_name": "LayoutModel",
          "model_module_version": "1.2.0",
          "state": {
            "_model_module": "@jupyter-widgets/base",
            "_model_module_version": "1.2.0",
            "_model_name": "LayoutModel",
            "_view_count": null,
            "_view_module": "@jupyter-widgets/base",
            "_view_module_version": "1.2.0",
            "_view_name": "LayoutView",
            "align_content": null,
            "align_items": null,
            "align_self": null,
            "border": null,
            "bottom": null,
            "display": null,
            "flex": null,
            "flex_flow": null,
            "grid_area": null,
            "grid_auto_columns": null,
            "grid_auto_flow": null,
            "grid_auto_rows": null,
            "grid_column": null,
            "grid_gap": null,
            "grid_row": null,
            "grid_template_areas": null,
            "grid_template_columns": null,
            "grid_template_rows": null,
            "height": null,
            "justify_content": null,
            "justify_items": null,
            "left": null,
            "margin": null,
            "max_height": null,
            "max_width": null,
            "min_height": null,
            "min_width": null,
            "object_fit": null,
            "object_position": null,
            "order": null,
            "overflow": null,
            "overflow_x": null,
            "overflow_y": null,
            "padding": null,
            "right": null,
            "top": null,
            "visibility": null,
            "width": null
          }
        },
        "cacb933ead5a4e58b3950c6d984b70ce": {
          "model_module": "@jupyter-widgets/controls",
          "model_name": "DescriptionStyleModel",
          "model_module_version": "1.5.0",
          "state": {
            "_model_module": "@jupyter-widgets/controls",
            "_model_module_version": "1.5.0",
            "_model_name": "DescriptionStyleModel",
            "_view_count": null,
            "_view_module": "@jupyter-widgets/base",
            "_view_module_version": "1.2.0",
            "_view_name": "StyleView",
            "description_width": ""
          }
        }
      }
    }
  },
  "cells": [
    {
      "cell_type": "markdown",
      "source": [
        "Importing the all necessary libraries"
      ],
      "metadata": {
        "id": "TBAskO2LwDdk"
      }
    },
    {
      "cell_type": "code",
      "execution_count": null,
      "metadata": {
        "id": "aG4SuGcki7vb"
      },
      "outputs": [],
      "source": [
        "import os \n",
        "import gc\n",
        "import cv2\n",
        "import math \n",
        "import numpy as np\n",
        "import matplotlib.pyplot as plt\n",
        "from tqdm.notebook import tqdm\n",
        "import pandas as pd\n",
        " \n",
        "import tensorflow as tf \n",
        "# from keras.utils import plot_model \n",
        "from tensorflow.keras.models import Sequential \n",
        "from tensorflow.keras.layers import *\n",
        "from sklearn.model_selection import train_test_split\n",
        "from sklearn.metrics import make_scorer, accuracy_score, roc_auc_score, roc_curve "
      ]
    },
    {
      "cell_type": "markdown",
      "source": [
        "Read images and perform some augmentation on image to increase the dataset"
      ],
      "metadata": {
        "id": "fSocpTRYwIZA"
      }
    },
    {
      "cell_type": "code",
      "metadata": {
        "id": "EE4IZx-luMbm"
      },
      "source": [
        "def read_image(filepath): \n",
        "    return cv2.imread(os.path.join(train_dir, filepath)) \n",
        "\n",
        "def resize_image(image, image_size): \n",
        "    return cv2.resize(image.copy(), image_size, interpolation = cv2.INTER_AREA)  \n",
        "\n",
        "def get_mat(rotation, shear, height_zoom, width_zoom, height_shift, width_shift): \n",
        "    # returns 3x3 transformmatrix which transforms indicies \n",
        "        \n",
        "    # CONVERT DEGREES TO RADIANS \n",
        "    rotation = math.pi * rotation / 180.\n",
        "    shear = math.pi * shear / 180.\n",
        "    \n",
        "    # ROTATION MATRIX\n",
        "    c1 = tf.math.cos(rotation)\n",
        "    s1 = tf.math.sin(rotation)\n",
        "    one = tf.constant([1],dtype='float32')\n",
        "    zero = tf.constant([0],dtype='float32')\n",
        "    rotation_matrix = tf.reshape( tf.concat([c1,s1,zero, -s1,c1,zero, zero,zero,one],axis=0),[3,3] )\n",
        "        \n",
        "    # SHEAR MATRIX\n",
        "    c2 = tf.math.cos(shear)\n",
        "    s2 = tf.math.sin(shear)\n",
        "    shear_matrix = tf.reshape( tf.concat([one,s2,zero, zero,c2,zero, zero,zero,one],axis=0),[3,3] )    \n",
        "    \n",
        "    # ZOOM MATRIX\n",
        "    zoom_matrix = tf.reshape( tf.concat([one/height_zoom,zero,zero, zero,one/width_zoom,zero, zero,zero,one],axis=0),[3,3] )\n",
        "    \n",
        "    # SHIFT MATRIX\n",
        "    shift_matrix = tf.reshape( tf.concat([one,zero,height_shift, zero,one,width_shift, zero,zero,one],axis=0),[3,3] )\n",
        "    \n",
        "    return K.dot(K.dot(rotation_matrix, shear_matrix), K.dot(zoom_matrix, shift_matrix))\n",
        "\n",
        "def transform(image,label):\n",
        "    # input image - is one image of size [dim,dim,3] not a batch of [b,dim,dim,3]\n",
        "    # output - image randomly rotated, sheared, zoomed, and shifted\n",
        "    DIM = IMAGE_SIZE\n",
        "    XDIM = DIM%2 #fix for size 331\n",
        "    \n",
        "    rot = 15. * tf.random.normal([1],dtype='float32')\n",
        "    shr = 5. * tf.random.normal([1],dtype='float32') \n",
        "    h_zoom = 1.0 + tf.random.normal([1],dtype='float32')/10.\n",
        "    w_zoom = 1.0 + tf.random.normal([1],dtype='float32')/10.\n",
        "    h_shift = 16. * tf.random.normal([1],dtype='float32') \n",
        "    w_shift = 16. * tf.random.normal([1],dtype='float32') \n",
        "  \n",
        "    # GET TRANSFORMATION MATRIX\n",
        "    m = get_mat(rot,shr,h_zoom,w_zoom,h_shift,w_shift) \n",
        "\n",
        "    # LIST DESTINATION PIXEL INDICES\n",
        "    x = tf.repeat( tf.range(DIM//2,-DIM//2,-1), DIM )\n",
        "    y = tf.tile( tf.range(-DIM//2,DIM//2),[DIM] )\n",
        "    z = tf.ones([DIM*DIM],dtype='int32')\n",
        "    idx = tf.stack( [x,y,z] )\n",
        "    \n",
        "    # ROTATE DESTINATION PIXELS ONTO ORIGIN PIXELS\n",
        "    idx2 = K.dot(m,tf.cast(idx,dtype='float32'))\n",
        "    idx2 = K.cast(idx2,dtype='int32')\n",
        "    idx2 = K.clip(idx2,-DIM//2+XDIM+1,DIM//2)\n",
        "    \n",
        "    # FIND ORIGIN PIXEL VALUES           \n",
        "    idx3 = tf.stack( [DIM//2-idx2[0,], DIM//2-1+idx2[1,]] )\n",
        "    d = tf.gather_nd(image,tf.transpose(idx3))\n",
        "        \n",
        "    return tf.reshape(d,[DIM,DIM,3]),label\n",
        "\n",
        "def get_training_dataset(dataset, do_aug = True):\n",
        "    if do_aug: \n",
        "        dataset = dataset.map(transform, num_parallel_calls = AUTO)\n",
        "    dataset = dataset.repeat() # the training dataset must repeat for several epochs\n",
        "    dataset = dataset.shuffle(2048)\n",
        "    dataset = dataset.batch(BATCH_SIZE)\n",
        "    dataset = dataset.prefetch(AUTO) # prefetch next batch while training (autotune prefetch buffer size)\n",
        "    return dataset\n",
        "\n",
        "def get_validation_dataset(dataset):\n",
        "    dataset = dataset.batch(BATCH_SIZE)\n",
        "    dataset = dataset.cache()\n",
        "    dataset = dataset.prefetch(AUTO) # prefetch next batch while training (autotune prefetch buffer size)\n",
        "    return dataset"
      ],
      "execution_count": null,
      "outputs": []
    },
    {
      "cell_type": "markdown",
      "source": [
        "Mount the drive to access the data"
      ],
      "metadata": {
        "id": "dPPzVtmnwSVs"
      }
    },
    {
      "cell_type": "code",
      "source": [
        "from google.colab import drive\n",
        "drive.mount('/content/drive')  "
      ],
      "metadata": {
        "colab": {
          "base_uri": "https://localhost:8080/"
        },
        "id": "jILOGGlUkbSn",
        "outputId": "55845151-8c83-460b-9a4a-87ee63d87228"
      },
      "execution_count": null,
      "outputs": [
        {
          "output_type": "stream",
          "name": "stdout",
          "text": [
            "Mounted at /content/drive\n"
          ]
        }
      ]
    },
    {
      "cell_type": "markdown",
      "source": [
        "Unzip the file "
      ],
      "metadata": {
        "id": "Jm8Y1JPIwXjg"
      }
    },
    {
      "cell_type": "code",
      "source": [
        "!unzip -uq '/content/drive/MyDrive/ml and ai/mjorpro.zip' "
      ],
      "metadata": {
        "id": "px-0s4MlkgLh"
      },
      "execution_count": null,
      "outputs": []
    },
    {
      "cell_type": "markdown",
      "source": [
        "give the path for the images folder"
      ],
      "metadata": {
        "id": "YiA4SQr0waf0"
      }
    },
    {
      "cell_type": "code",
      "source": [
        "train_dir = os.path.join('/content/mjorpro/') "
      ],
      "metadata": {
        "id": "iN5azKmUkvRH"
      },
      "execution_count": null,
      "outputs": []
    },
    {
      "cell_type": "markdown",
      "source": [
        "Binary classes(cracked and uncracked)"
      ],
      "metadata": {
        "id": "5OA2ksfcwesJ"
      }
    },
    {
      "cell_type": "code",
      "source": [
        "disease_types=['manatees', 'whales'] "
      ],
      "metadata": {
        "id": "a8agZ4msk3lp"
      },
      "execution_count": null,
      "outputs": []
    },
    {
      "cell_type": "code",
      "source": [
        "train_data = []\n",
        "for defects_id, sp in enumerate(disease_types):\n",
        "    for file in os.listdir(os.path.join(train_dir, sp)):\n",
        "        train_data.append(['{}/{}'.format(sp, file), defects_id, sp])      \n",
        "train = pd.DataFrame(train_data, columns=['File', 'DiseaseID','Disease Type']) "
      ],
      "metadata": {
        "id": "3OaNBAZZlCvz"
      },
      "execution_count": null,
      "outputs": []
    },
    {
      "cell_type": "markdown",
      "source": [
        "Resize the image"
      ],
      "metadata": {
        "id": "DK7jcip7wj4R"
      }
    },
    {
      "cell_type": "code",
      "source": [
        "IMAGE_SIZE = 64\n",
        "X = np.zeros((train.shape[0], IMAGE_SIZE, IMAGE_SIZE, 3))\n",
        "for i, file in tqdm(enumerate(train['File'].values), total = len(train)):\n",
        "    image = read_image(file)\n",
        "    if image is not None:\n",
        "        X[i] = resize_image(image, (IMAGE_SIZE, IMAGE_SIZE))\n",
        "X /= 255.\n",
        "y = train['DiseaseID'].values\n",
        "print(X.shape) \n",
        "print(y.shape)"
      ],
      "metadata": {
        "colab": {
          "base_uri": "https://localhost:8080/",
          "height": 84,
          "referenced_widgets": [
            "dc63f214e34046d7b1297a3304f3da97",
            "e55f21bf122a4852b43324f1ea5cfba0",
            "038cb45496864b80b1dd402564057799",
            "7bb0574c86ec449ba53efb545017f99d",
            "83ca5d6fe9aa4a00aa57cb3b248afa0e",
            "80848b925bfd48f1ac188534200ef73f",
            "10d818e071f840c4a7235f8e3266eb49",
            "2d1b58ee7e624638afbe290be9c9b784",
            "3c5cc787ac82489a84afd456affc6ed4",
            "bbca904e2b504d92a4e93bc0666beb55",
            "cacb933ead5a4e58b3950c6d984b70ce"
          ]
        },
        "id": "aKJYoz4BlJdp",
        "outputId": "9dd3d383-2680-45da-fa0b-7fb688977ff4"
      },
      "execution_count": null,
      "outputs": [
        {
          "output_type": "display_data",
          "data": {
            "text/plain": [
              "  0%|          | 0/138 [00:00<?, ?it/s]"
            ],
            "application/vnd.jupyter.widget-view+json": {
              "version_major": 2,
              "version_minor": 0,
              "model_id": "dc63f214e34046d7b1297a3304f3da97"
            }
          },
          "metadata": {}
        },
        {
          "output_type": "stream",
          "name": "stdout",
          "text": [
            "(138, 64, 64, 3)\n",
            "(138,)\n"
          ]
        }
      ]
    },
    {
      "cell_type": "markdown",
      "source": [
        "splitting the dataset (80 percentage train aand 20 percentage test)"
      ],
      "metadata": {
        "id": "lzTNM-rewq8a"
      }
    },
    {
      "cell_type": "code",
      "source": [
        "x_train, x_test, y_train, y_test = train_test_split(X, y, test_size=0.2,random_state=np.random.randint(1,1000, 1)[0], stratify=y) "
      ],
      "metadata": {
        "id": "8Dg01VkilL8u"
      },
      "execution_count": null,
      "outputs": []
    },
    {
      "cell_type": "code",
      "source": [
        "x_train.shape"
      ],
      "metadata": {
        "colab": {
          "base_uri": "https://localhost:8080/"
        },
        "id": "F01_BYxrlV58",
        "outputId": "4c7b0122-c2b9-4683-d38d-a32f1c306544"
      },
      "execution_count": null,
      "outputs": [
        {
          "output_type": "execute_result",
          "data": {
            "text/plain": [
              "(110, 64, 64, 3)"
            ]
          },
          "metadata": {},
          "execution_count": 11
        }
      ]
    },
    {
      "cell_type": "code",
      "source": [
        "y_train.shape"
      ],
      "metadata": {
        "colab": {
          "base_uri": "https://localhost:8080/"
        },
        "id": "4vYpRWPLnXMe",
        "outputId": "981d1e9d-4822-43d9-83c2-d374c6af0bef"
      },
      "execution_count": null,
      "outputs": [
        {
          "output_type": "execute_result",
          "data": {
            "text/plain": [
              "(110,)"
            ]
          },
          "metadata": {},
          "execution_count": 12
        }
      ]
    },
    {
      "cell_type": "code",
      "source": [
        "x_test.shape"
      ],
      "metadata": {
        "colab": {
          "base_uri": "https://localhost:8080/"
        },
        "id": "KS_ObBwrlX5e",
        "outputId": "f44169c1-ff51-437d-e427-dedf621963bd"
      },
      "execution_count": null,
      "outputs": [
        {
          "output_type": "execute_result",
          "data": {
            "text/plain": [
              "(28, 64, 64, 3)"
            ]
          },
          "metadata": {},
          "execution_count": 13
        }
      ]
    },
    {
      "cell_type": "code",
      "source": [
        "y_test.shape"
      ],
      "metadata": {
        "colab": {
          "base_uri": "https://localhost:8080/"
        },
        "id": "J4wwv3FEnbZA",
        "outputId": "504d2ebb-86dd-4b53-ee55-b5b8a9e7931b"
      },
      "execution_count": null,
      "outputs": [
        {
          "output_type": "execute_result",
          "data": {
            "text/plain": [
              "(28,)"
            ]
          },
          "metadata": {},
          "execution_count": 14
        }
      ]
    },
    {
      "cell_type": "markdown",
      "source": [
        "Convolutional Neural Network"
      ],
      "metadata": {
        "id": "urfn3BwSw3W-"
      }
    },
    {
      "cell_type": "code",
      "source": [
        "model = Sequential()\n",
        "model.add(Conv2D(32, (3, 3), activation='relu', input_shape=(64, 64, 3)))\n",
        "model.add(MaxPool2D((2, 2)))\n",
        "model.add(Conv2D(64, (3, 3), activation='relu')) \n",
        "model.add(MaxPool2D((2, 2))) \n",
        "model.add(Flatten()) \n",
        "model.add(Dense(128, activation='relu'))\n",
        "model.add(Dense(1, activation='sigmoid')) "
      ],
      "metadata": {
        "id": "Ct6lip_KlZr5"
      },
      "execution_count": null,
      "outputs": []
    },
    {
      "cell_type": "markdown",
      "source": [
        "here we take two classes so called binary classification, hence we used sigmoid activation function"
      ],
      "metadata": {
        "id": "vJx3AZVxw96W"
      }
    },
    {
      "cell_type": "code",
      "source": [
        "model.summary() "
      ],
      "metadata": {
        "colab": {
          "base_uri": "https://localhost:8080/"
        },
        "id": "9BunFZrjlfWI",
        "outputId": "08f4a309-f5e0-4f97-d69e-99239c7d44d0"
      },
      "execution_count": null,
      "outputs": [
        {
          "output_type": "stream",
          "name": "stdout",
          "text": [
            "Model: \"sequential\"\n",
            "_________________________________________________________________\n",
            " Layer (type)                Output Shape              Param #   \n",
            "=================================================================\n",
            " conv2d (Conv2D)             (None, 62, 62, 32)        896       \n",
            "                                                                 \n",
            " max_pooling2d (MaxPooling2D  (None, 31, 31, 32)       0         \n",
            " )                                                               \n",
            "                                                                 \n",
            " conv2d_1 (Conv2D)           (None, 29, 29, 64)        18496     \n",
            "                                                                 \n",
            " max_pooling2d_1 (MaxPooling  (None, 14, 14, 64)       0         \n",
            " 2D)                                                             \n",
            "                                                                 \n",
            " flatten (Flatten)           (None, 12544)             0         \n",
            "                                                                 \n",
            " dense (Dense)               (None, 128)               1605760   \n",
            "                                                                 \n",
            " dense_1 (Dense)             (None, 1)                 129       \n",
            "                                                                 \n",
            "=================================================================\n",
            "Total params: 1,625,281\n",
            "Trainable params: 1,625,281\n",
            "Non-trainable params: 0\n",
            "_________________________________________________________________\n"
          ]
        }
      ]
    },
    {
      "cell_type": "markdown",
      "source": [
        "we trained the model forr 40 epochs"
      ],
      "metadata": {
        "id": "71oevEztxLMX"
      }
    },
    {
      "cell_type": "code",
      "source": [
        "model.compile(optimizer='rmsprop', loss='binary_crossentropy', metrics=['accuracy']) \n",
        "history = model.fit(x_train, y_train, batch_size=64, epochs=50) "
      ],
      "metadata": {
        "colab": {
          "base_uri": "https://localhost:8080/"
        },
        "id": "u2sSaWmllh7Q",
        "outputId": "da98e18f-647f-42ef-c344-0d14f94a96f8"
      },
      "execution_count": null,
      "outputs": [
        {
          "output_type": "stream",
          "name": "stdout",
          "text": [
            "Epoch 1/50\n",
            "2/2 [==============================] - 2s 366ms/step - loss: 1.8547 - accuracy: 0.6000\n",
            "Epoch 2/50\n",
            "2/2 [==============================] - 1s 352ms/step - loss: 0.7339 - accuracy: 0.6818\n",
            "Epoch 3/50\n",
            "2/2 [==============================] - 1s 332ms/step - loss: 1.2398 - accuracy: 0.4818\n",
            "Epoch 4/50\n",
            "2/2 [==============================] - 1s 357ms/step - loss: 0.5906 - accuracy: 0.7000\n",
            "Epoch 5/50\n",
            "2/2 [==============================] - 1s 355ms/step - loss: 0.5433 - accuracy: 0.6455\n",
            "Epoch 6/50\n",
            "2/2 [==============================] - 1s 376ms/step - loss: 0.6316 - accuracy: 0.6273\n",
            "Epoch 7/50\n",
            "2/2 [==============================] - 1s 357ms/step - loss: 0.8024 - accuracy: 0.6273\n",
            "Epoch 8/50\n",
            "2/2 [==============================] - 1s 337ms/step - loss: 0.4464 - accuracy: 0.9091\n",
            "Epoch 9/50\n",
            "2/2 [==============================] - 1s 340ms/step - loss: 0.3017 - accuracy: 0.9091\n",
            "Epoch 10/50\n",
            "2/2 [==============================] - 1s 313ms/step - loss: 0.6698 - accuracy: 0.6636\n",
            "Epoch 11/50\n",
            "2/2 [==============================] - 1s 370ms/step - loss: 0.2730 - accuracy: 0.9455\n",
            "Epoch 12/50\n",
            "2/2 [==============================] - 1s 660ms/step - loss: 0.3483 - accuracy: 0.8455\n",
            "Epoch 13/50\n",
            "2/2 [==============================] - 1s 379ms/step - loss: 0.6446 - accuracy: 0.6909\n",
            "Epoch 14/50\n",
            "2/2 [==============================] - 1s 394ms/step - loss: 0.3225 - accuracy: 0.9455\n",
            "Epoch 15/50\n",
            "2/2 [==============================] - 1s 251ms/step - loss: 0.2159 - accuracy: 0.9636\n",
            "Epoch 16/50\n",
            "2/2 [==============================] - 1s 236ms/step - loss: 0.1975 - accuracy: 0.9273\n",
            "Epoch 17/50\n",
            "2/2 [==============================] - 1s 259ms/step - loss: 0.2501 - accuracy: 0.8818\n",
            "Epoch 18/50\n",
            "2/2 [==============================] - 1s 246ms/step - loss: 0.1391 - accuracy: 0.9727\n",
            "Epoch 19/50\n",
            "2/2 [==============================] - 1s 231ms/step - loss: 0.0925 - accuracy: 0.9727\n",
            "Epoch 20/50\n",
            "2/2 [==============================] - 1s 238ms/step - loss: 0.1034 - accuracy: 0.9636\n",
            "Epoch 21/50\n",
            "2/2 [==============================] - 1s 242ms/step - loss: 1.0724 - accuracy: 0.6000\n",
            "Epoch 22/50\n",
            "2/2 [==============================] - 1s 256ms/step - loss: 0.2825 - accuracy: 0.9909\n",
            "Epoch 23/50\n",
            "2/2 [==============================] - 1s 250ms/step - loss: 0.1683 - accuracy: 0.9909\n",
            "Epoch 24/50\n",
            "2/2 [==============================] - 1s 245ms/step - loss: 0.0970 - accuracy: 0.9818\n",
            "Epoch 25/50\n",
            "2/2 [==============================] - 1s 233ms/step - loss: 0.2910 - accuracy: 0.8545\n",
            "Epoch 26/50\n",
            "2/2 [==============================] - 1s 258ms/step - loss: 0.2867 - accuracy: 0.8818\n",
            "Epoch 27/50\n",
            "2/2 [==============================] - 1s 243ms/step - loss: 0.1007 - accuracy: 0.9818\n",
            "Epoch 28/50\n",
            "2/2 [==============================] - 1s 245ms/step - loss: 0.0667 - accuracy: 0.9818\n",
            "Epoch 29/50\n",
            "2/2 [==============================] - 1s 275ms/step - loss: 0.0485 - accuracy: 1.0000\n",
            "Epoch 30/50\n",
            "2/2 [==============================] - 1s 249ms/step - loss: 0.0969 - accuracy: 0.9818\n",
            "Epoch 31/50\n",
            "2/2 [==============================] - 1s 246ms/step - loss: 0.0527 - accuracy: 0.9909\n",
            "Epoch 32/50\n",
            "2/2 [==============================] - 1s 230ms/step - loss: 0.0280 - accuracy: 1.0000\n",
            "Epoch 33/50\n",
            "2/2 [==============================] - 1s 244ms/step - loss: 0.0205 - accuracy: 1.0000\n",
            "Epoch 34/50\n",
            "2/2 [==============================] - 1s 241ms/step - loss: 0.0166 - accuracy: 1.0000\n",
            "Epoch 35/50\n",
            "2/2 [==============================] - 1s 247ms/step - loss: 0.0149 - accuracy: 1.0000\n",
            "Epoch 36/50\n",
            "2/2 [==============================] - 1s 261ms/step - loss: 0.0610 - accuracy: 0.9636\n",
            "Epoch 37/50\n",
            "2/2 [==============================] - 1s 250ms/step - loss: 0.1504 - accuracy: 0.9364\n",
            "Epoch 38/50\n",
            "2/2 [==============================] - 1s 262ms/step - loss: 0.0685 - accuracy: 0.9909\n",
            "Epoch 39/50\n",
            "2/2 [==============================] - 1s 256ms/step - loss: 0.0194 - accuracy: 1.0000\n",
            "Epoch 40/50\n",
            "2/2 [==============================] - 1s 264ms/step - loss: 0.0126 - accuracy: 1.0000\n",
            "Epoch 41/50\n",
            "2/2 [==============================] - 1s 257ms/step - loss: 0.0068 - accuracy: 1.0000\n",
            "Epoch 42/50\n",
            "2/2 [==============================] - 1s 248ms/step - loss: 0.0048 - accuracy: 1.0000\n",
            "Epoch 43/50\n",
            "2/2 [==============================] - 1s 255ms/step - loss: 0.0037 - accuracy: 1.0000\n",
            "Epoch 44/50\n",
            "2/2 [==============================] - 1s 251ms/step - loss: 0.0035 - accuracy: 1.0000\n",
            "Epoch 45/50\n",
            "2/2 [==============================] - 1s 265ms/step - loss: 0.0026 - accuracy: 1.0000\n",
            "Epoch 46/50\n",
            "2/2 [==============================] - 1s 252ms/step - loss: 0.0026 - accuracy: 1.0000\n",
            "Epoch 47/50\n",
            "2/2 [==============================] - 1s 252ms/step - loss: 0.0019 - accuracy: 1.0000\n",
            "Epoch 48/50\n",
            "2/2 [==============================] - 1s 245ms/step - loss: 0.0016 - accuracy: 1.0000\n",
            "Epoch 49/50\n",
            "2/2 [==============================] - 1s 248ms/step - loss: 0.0014 - accuracy: 1.0000\n",
            "Epoch 50/50\n",
            "2/2 [==============================] - 1s 266ms/step - loss: 0.0072 - accuracy: 1.0000\n"
          ]
        }
      ]
    },
    {
      "cell_type": "markdown",
      "source": [
        "Testing phase"
      ],
      "metadata": {
        "id": "bp7evKqcxOlW"
      }
    },
    {
      "cell_type": "code",
      "source": [
        "model.evaluate(x_test, y_test)  "
      ],
      "metadata": {
        "colab": {
          "base_uri": "https://localhost:8080/"
        },
        "id": "zxm0o9g_llkC",
        "outputId": "2dbd6e33-e11b-4850-b350-0051a4fce5d1"
      },
      "execution_count": null,
      "outputs": [
        {
          "output_type": "stream",
          "name": "stdout",
          "text": [
            "1/1 [==============================] - 0s 411ms/step - loss: 2.1072 - accuracy: 0.5714\n"
          ]
        },
        {
          "output_type": "execute_result",
          "data": {
            "text/plain": [
              "[2.107194185256958, 0.5714285969734192]"
            ]
          },
          "metadata": {},
          "execution_count": 19
        }
      ]
    },
    {
      "cell_type": "code",
      "source": [
        "# predict probabilities for test set\n",
        "yhat_probs = model.predict(x_test, verbose=1)\n",
        "# predict crisp classes for test set\n",
        "\n",
        "yhat_classes = (model.predict(x_test) > 0.5).astype(\"int32\") "
      ],
      "metadata": {
        "colab": {
          "base_uri": "https://localhost:8080/"
        },
        "id": "xCIX0bpgu303",
        "outputId": "9f9175e3-b1a4-4683-a351-35e9b8f114c1"
      },
      "execution_count": null,
      "outputs": [
        {
          "output_type": "stream",
          "name": "stdout",
          "text": [
            "1/1 [==============================] - 0s 152ms/step\n"
          ]
        }
      ]
    },
    {
      "cell_type": "code",
      "source": [
        "yhat_probs = yhat_probs[:, 0]\n",
        "yhat_classes = yhat_classes[:, 0]  "
      ],
      "metadata": {
        "id": "-LL6Gaomu7HN"
      },
      "execution_count": null,
      "outputs": []
    },
    {
      "cell_type": "code",
      "source": [
        "yhat_probs"
      ],
      "metadata": {
        "colab": {
          "base_uri": "https://localhost:8080/"
        },
        "id": "x4YVsW-voBrG",
        "outputId": "8eb0c814-e743-478d-cdf7-9ac6714b2544"
      },
      "execution_count": null,
      "outputs": [
        {
          "output_type": "execute_result",
          "data": {
            "text/plain": [
              "array([6.5046549e-04, 2.0723656e-01, 1.0297596e-03, 2.8522053e-01,\n",
              "       1.1844664e-04, 8.0689460e-02, 8.7557137e-03, 3.4812023e-05,\n",
              "       1.9182026e-02, 1.4624259e-01, 7.7862561e-01, 9.3512034e-01,\n",
              "       1.5833300e-05, 2.5691280e-01, 3.1175534e-06, 7.5003460e-05,\n",
              "       4.4887485e-05, 6.8261120e-06, 5.8042646e-05, 3.9681196e-03,\n",
              "       1.2169539e-04, 6.3425303e-04, 7.7840656e-01, 1.0656553e-04,\n",
              "       2.7004391e-02, 6.3761172e-07, 3.5368495e-05, 8.1212471e-05],\n",
              "      dtype=float32)"
            ]
          },
          "metadata": {},
          "execution_count": 22
        }
      ]
    },
    {
      "cell_type": "code",
      "source": [
        "yhat_classes "
      ],
      "metadata": {
        "colab": {
          "base_uri": "https://localhost:8080/"
        },
        "id": "ivuApeo7oEEU",
        "outputId": "993aa578-e52e-4cba-a0b6-ceb3811538bb"
      },
      "execution_count": null,
      "outputs": [
        {
          "output_type": "execute_result",
          "data": {
            "text/plain": [
              "array([0, 0, 0, 0, 0, 0, 0, 0, 0, 0, 1, 1, 0, 0, 0, 0, 0, 0, 0, 0, 0, 0,\n",
              "       1, 0, 0, 0, 0, 0], dtype=int32)"
            ]
          },
          "metadata": {},
          "execution_count": 23
        }
      ]
    },
    {
      "cell_type": "markdown",
      "source": [
        "Perforrmance Metrices"
      ],
      "metadata": {
        "id": "Uz6Ge1aMxQ8P"
      }
    },
    {
      "cell_type": "code",
      "source": [
        "from sklearn.metrics import accuracy_score, precision_score, recall_score, f1_score\n",
        "# accuracy: (tp + tn) / (p + n)\n",
        "accuracy = accuracy_score(y_test, yhat_classes)\n",
        "print('Accuracy: %f' % accuracy)\n",
        "# precision tp / (tp + fp)\n",
        "precision = precision_score(y_test, yhat_classes)\n",
        "print('Precision: %f' % precision) \n",
        "# recall: tp / (tp + fn)\n",
        "recall = recall_score(y_test, yhat_classes) \n",
        "print('Recall: %f' % recall)\n",
        "# f1: 2 tp / (2 tp + fp + fn)\n",
        "f1 = f1_score(y_test, yhat_classes)\n",
        "print('F1 score: %f' % f1)"
      ],
      "metadata": {
        "colab": {
          "base_uri": "https://localhost:8080/"
        },
        "id": "PHAnMGDDu_KC",
        "outputId": "b9ae535b-123c-482c-8985-97f4df0531f8"
      },
      "execution_count": null,
      "outputs": [
        {
          "output_type": "stream",
          "name": "stdout",
          "text": [
            "Accuracy: 0.571429\n",
            "Precision: 1.000000\n",
            "Recall: 0.200000\n",
            "F1 score: 0.333333\n"
          ]
        }
      ]
    },
    {
      "cell_type": "markdown",
      "source": [
        "Confusion maatrix"
      ],
      "metadata": {
        "id": "PP1yPRsBxTt5"
      }
    },
    {
      "cell_type": "code",
      "source": [
        "from sklearn.metrics import confusion_matrix \n",
        "matrix = confusion_matrix(y_test, yhat_classes) \n",
        "print(matrix)  "
      ],
      "metadata": {
        "colab": {
          "base_uri": "https://localhost:8080/"
        },
        "id": "HIbhsni5vB4k",
        "outputId": "4c44705b-4849-49b2-f47f-77cc7639e5bc"
      },
      "execution_count": null,
      "outputs": [
        {
          "output_type": "stream",
          "name": "stdout",
          "text": [
            "[[13  0]\n",
            " [12  3]]\n"
          ]
        }
      ]
    },
    {
      "cell_type": "code",
      "source": [
        ""
      ],
      "metadata": {
        "id": "sMmDvqYJvo0o"
      },
      "execution_count": null,
      "outputs": []
    }
  ]
}